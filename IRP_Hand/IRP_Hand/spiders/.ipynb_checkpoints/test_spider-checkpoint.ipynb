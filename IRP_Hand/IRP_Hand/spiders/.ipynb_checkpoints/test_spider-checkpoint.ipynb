{
 "cells": [
  {
   "cell_type": "code",
   "execution_count": 7,
   "metadata": {
    "collapsed": true
   },
   "outputs": [],
   "source": [
    "from scrapy.selector import Selector\n",
    "from scrapy import http\n",
    "import scrapy\n",
    "import re\n",
    "\n",
    "\n",
    "# = Note For Other Readers\n",
    "### = Note For Me \n",
    "\n",
    "#Every Class in this file represents a Spider\n",
    "#Every Spider must subclass 'scrapy.Spider'\n",
    "class NewspaperSpider(scrapy.Spider):\n",
    "    \n",
    "    #import to give each spider a name because you run spiders by calling them by name.\n",
    "    name = 'newspapers_tt'\n",
    "    \n",
    "    #Important thing I noticed: (See Below)\n",
    "    def start_requests(self):\n",
    "        \n",
    "        start_url = \"https://en.wikipedia.org/wiki/List_of_newspapers_in_the_United_States\"\n",
    "        #Only yielded pages are downloaded (i.e. parseable)\n",
    "        yield scrapy.Request(url=start_url, callback=self.parse1)\n",
    "    \n",
    "    #Parse the base wiki page for links to wiki of top 25 national papers \n",
    "    def parse1(self, response):\n",
    "        to_links = response.xpath('//*[@id=\"mw-content-text\"]/div//table[3]/tr//td[2]//a/@href').extract()\n",
    "        top_urls = [ response.urljoin(link) for link in to_links]\n",
    "        \n",
    "        ### Relative Links: response.xpath('//*[@id=\"mw-content-text\"]/div//table[3]/tr//td[2]//a/@href').extract()\n",
    "        ### Titles: response.xpath('//*[@id=\"mw-content-text\"]/div//table[3]/tr//td[2]//a/@title').extract()\n",
    "        \n",
    "        for url in top_urls:\n",
    "            yield scrapy.Request(url=url, callback=self.parse2)\n",
    "    \n",
    "    def parse2(self, response):\n",
    "        h = response.xpath('//*[@id=\"firstHeading\"]/i/text()').extract()[0]\n",
    "        \n",
    "        ###TO-DO: Check to see if there is more than one  website link.\n",
    "        sup_link1 = response.xpath('//table[@class=\"infobox vcard\"]/tr[last() -1]//a/@href').extract()\n",
    "        sup_link2 = response.xpath('//table[@class=\"infobox vcard\"]/tr[last()]//a/@href').extract()\n",
    "        \n",
    "        if '.com' not in sup_link1:\n",
    "            site = sup_link2\n",
    "        \n",
    "        else:\n",
    "            site = sup_link1\n",
    "        \n",
    "        yield scrapy.Request(url=site, callback=self.parse3)\n",
    "        \n",
    "    \n",
    "    def parse3(self, response):\n",
    "        all_links = response.xpath('/html/body//a/@href').extract()\n",
    "        sports_pages = [link for link in p_links if re.search('[Ss]ports', link) is not None]\n",
    "        p_title = response.xpath('//title/text()').extract()[0]\n",
    "        #Not Necessarily true, but is a pretty safe assumption.\n",
    "        sports_home = sports_pages[0]\n",
    "        \n",
    "        \n",
    "        yield {\n",
    "            \n",
    "            p_title : sports_home\n",
    "        \n",
    "        }\n",
    "        \n",
    "        \n",
    "\n",
    "                "
   ]
  },
  {
   "cell_type": "code",
   "execution_count": null,
   "metadata": {
    "collapsed": true
   },
   "outputs": [],
   "source": [
    "#wiw = [link for link in p_links if re.search('[Ss]ports', link) is not None]\n",
    "#p_links = response.xpath('/html/body//a/@href').extract()\n",
    "\n",
    "\n",
    "\n",
    "        ### g_url = 'https://www.google.com/search?q=' +  +'&num=100&ie=utf-8&oe=utf-8&aq=t&rls=org.mozilla:en-US:official&client=firefox-a&channel=fflb\n",
    "###         yield {\n",
    "            \n",
    "###             h : site\n",
    "            \n",
    "###         }\n",
    "\n",
    "\n",
    "\n",
    "# <figure id=\"media-100000005332419\" class=\"media photo lede layout-large-horizontal\" data-media-action=\"modal\" itemprop=\"associatedMedia\" itemscope=\"\" itemid=\"https://static01.nyt.com/images/2017/08/02/sports/02yankees1/02yankees1-master768.jpg\" itemtype=\"http://schema.org/ImageObject\" aria-label=\"media\" role=\"group\">\n",
    "#     <span class=\"visually-hidden\">Photo</span>\n",
    "#     <div class=\"image\">\n",
    "#             <img src=\"https://static01.nyt.com/images/2017/08/02/sports/02yankees1/02yankees1-master768.jpg\" alt=\"\" class=\"media-viewer-candidate\" data-mediaviewer-src=\"https://static01.nyt.com/images/2017/08/02/sports/02yankees1/02yankees1-superJumbo.jpg\" data-mediaviewer-caption=\"Starting pitcher Jaime Garcia, at a news conference Tuesday, said that growing up, he was a Yankees fan.\" data-mediaviewer-credit=\"Kathy Willens/Associated Press\" itemprop=\"url\" itemid=\"https://static01.nyt.com/images/2017/08/02/sports/02yankees1/02yankees1-master768.jpg\"><div class=\"media-action-overlay\">\n",
    "# <i class=\"icon sprite-icon\"></i>\n",
    "# </div>\n",
    "#             <meta itemprop=\"height\" content=\"512\">\n",
    "#             <meta itemprop=\"width\" content=\"768\">\n",
    "#     </div>\n",
    "#         <figcaption class=\"caption\" itemprop=\"caption description\">\n",
    "#                 <span class=\"caption-text\">Starting pitcher Jaime Garcia, at a news conference Tuesday, said that growing up, he was a Yankees fan.</span>\n",
    "#                         <span class=\"credit\" itemprop=\"copyrightHolder\">\n",
    "#             <span class=\"visually-hidden\">Credit</span>\n",
    "#             Kathy Willens/Associated Press        </span>\n",
    "#             </figcaption>\n",
    "#     </figure>\n",
    "\n",
    "# <span class=\"credit\" itemprop=\"copyrightHolder\">\n",
    "#             <span class=\"visually-hidden\">Credit</span>\n",
    "#             Kathy Willens/Associated Press        </span>"
   ]
  },
  {
   "cell_type": "code",
   "execution_count": 8,
   "metadata": {},
   "outputs": [
    {
     "data": {
      "text/plain": [
       "True"
      ]
     },
     "execution_count": 8,
     "metadata": {},
     "output_type": "execute_result"
    }
   ],
   "source": []
  },
  {
   "cell_type": "code",
   "execution_count": null,
   "metadata": {
    "collapsed": true
   },
   "outputs": [],
   "source": []
  }
 ],
 "metadata": {
  "kernelspec": {
   "display_name": "Python 3",
   "language": "python",
   "name": "python3"
  },
  "language_info": {
   "codemirror_mode": {
    "name": "ipython",
    "version": 3
   },
   "file_extension": ".py",
   "mimetype": "text/x-python",
   "name": "python",
   "nbconvert_exporter": "python",
   "pygments_lexer": "ipython3",
   "version": "3.6.1"
  }
 },
 "nbformat": 4,
 "nbformat_minor": 2
}
